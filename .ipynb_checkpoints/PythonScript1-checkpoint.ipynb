{
 "cells": [
  {
   "cell_type": "code",
   "execution_count": 1,
   "metadata": {},
   "outputs": [
    {
     "name": "stdout",
     "output_type": "stream",
     "text": [
      "Hello world!\n"
     ]
    }
   ],
   "source": [
    "print(\"Hello world!\")"
   ]
  },
  {
   "cell_type": "code",
   "execution_count": 3,
   "metadata": {},
   "outputs": [
    {
     "name": "stdout",
     "output_type": "stream",
     "text": [
      "5\n",
      "abc\n"
     ]
    }
   ],
   "source": [
    "a=5\n",
    "print(a)\n",
    "a=\"abc\"\n",
    "print(a)"
   ]
  },
  {
   "cell_type": "code",
   "execution_count": 16,
   "metadata": {
    "scrolled": true
   },
   "outputs": [
    {
     "name": "stdout",
     "output_type": "stream",
     "text": [
      "a>b\n"
     ]
    }
   ],
   "source": [
    "a=3\n",
    "b=2\n",
    "if a<b:\n",
    "    print(\"a<b\")\n",
    "elif a==b:\n",
    "    print(\"a=b\")\n",
    "else:\n",
    "    print(\"a>b\")"
   ]
  },
  {
   "cell_type": "code",
   "execution_count": 34,
   "metadata": {},
   "outputs": [],
   "source": [
    "# functions\n",
    "def function1():\n",
    "    print(\"function1\")\n",
    "def function2(x):\n",
    "    return x*2\n",
    "def is_even(a):\n",
    "    if a%2==0:\n",
    "        return True\n",
    "    else:\n",
    "        return False"
   ]
  },
  {
   "cell_type": "code",
   "execution_count": 38,
   "metadata": {},
   "outputs": [
    {
     "name": "stdout",
     "output_type": "stream",
     "text": [
      "function1\n",
      "function1\n",
      "4\n",
      "True\n",
      "False\n"
     ]
    },
    {
     "data": {
      "text/plain": [
       "bool"
      ]
     },
     "execution_count": 38,
     "metadata": {},
     "output_type": "execute_result"
    }
   ],
   "source": [
    "# functions\n",
    "function1()\n",
    "function1()\n",
    "c=function2(2)\n",
    "print(c)\n",
    "print(is_even(2))\n",
    "print(is_even(3))\n",
    "type(is_even(2))"
   ]
  },
  {
   "cell_type": "code",
   "execution_count": 108,
   "metadata": {},
   "outputs": [
    {
     "name": "stdout",
     "output_type": "stream",
     "text": [
      "[1, 5, 10]\n",
      "[1, 5, 10, 'newValue']\n",
      "[1, 5, 10]\n",
      "[10, 5, 1]\n",
      "4\n"
     ]
    }
   ],
   "source": [
    "# list\n",
    "myList=[1,5,10]\n",
    "print(myList)\n",
    "myList.append(\"newValue\")\n",
    "print(myList)\n",
    "myList.pop()\n",
    "print(myList)\n",
    "myList[0], myList[2] = myList[2], myList[0]\n",
    "print(myList)\n",
    "myList2d=[[1,2],[3,4]]\n",
    "print(myList2d[1][1])"
   ]
  },
  {
   "cell_type": "code",
   "execution_count": 57,
   "metadata": {},
   "outputs": [
    {
     "name": "stdout",
     "output_type": "stream",
     "text": [
      "10\n",
      "5\n",
      "1\n",
      "sum=16\n",
      "[1, 2, 3, 4]\n",
      "Sum=16\n"
     ]
    }
   ],
   "source": [
    "# for loop\n",
    "sum=0\n",
    "for element in myList:\n",
    "    sum=sum+element\n",
    "    print(element)\n",
    "print(\"sum=\" + str(sum))\n",
    "print(list(range(1,5)))\n",
    "i=0\n",
    "sum=0\n",
    "while i<3:\n",
    "    sum+=myList[i]\n",
    "    i+=1\n",
    "print(\"Sum=\" + str(sum))"
   ]
  },
  {
   "cell_type": "code",
   "execution_count": 60,
   "metadata": {},
   "outputs": [
    {
     "name": "stdout",
     "output_type": "stream",
     "text": [
      "17\n"
     ]
    }
   ],
   "source": [
    "# while loop\n",
    "list=[7,4,2,1,-1,-5, 3]\n",
    "i=0\n",
    "sum=0\n",
    "while i<len(list):\n",
    "    if list[i]>0:\n",
    "        sum+=list[i]\n",
    "    i+=1\n",
    "print(sum)"
   ]
  },
  {
   "cell_type": "code",
   "execution_count": 67,
   "metadata": {},
   "outputs": [
    {
     "name": "stdout",
     "output_type": "stream",
     "text": [
      "[-8, -2, 0, 3, 4, 5, 7, 8, 9]\n"
     ]
    }
   ],
   "source": [
    "# bubble sort\n",
    "list2=[9,0,7,4,8,3,5,-2,-8]\n",
    "i=0\n",
    "j=0\n",
    "for i in range(0, len(list2)-1):\n",
    "    for j in range(0, len(list2)-1):\n",
    "        if list2[j]>list2[j+1]:\n",
    "            list2[j],list2[j+1] = list2[j+1],list2[j]\n",
    "            # temp=list2[j]\n",
    "            # list2[j]=list2[j+1]\n",
    "            # list2[j+1]=temp\n",
    "print(list2)"
   ]
  },
  {
   "cell_type": "code",
   "execution_count": 80,
   "metadata": {},
   "outputs": [
    {
     "name": "stdout",
     "output_type": "stream",
     "text": [
      "[-8, -2, 0, 3, 4, 5, 7, 8, 9]\n"
     ]
    }
   ],
   "source": [
    "# insert sort\n",
    "list3=[9,0,7,4,8,3,5,-2,-8]\n",
    "list4=[]\n",
    "i=0\n",
    "j=0\n",
    "for i in range(len(list3)):\n",
    "    j=0\n",
    "    if len(list4)==0:\n",
    "        list4.append(list3[0])\n",
    "        continue\n",
    "    for j in range(len(list4)):\n",
    "        if list3[i]<list4[j]:\n",
    "            list4.insert(j,list3[i])\n",
    "            break\n",
    "        j+=1\n",
    "    i+=1\n",
    "print(list4)"
   ]
  },
  {
   "cell_type": "code",
   "execution_count": 96,
   "metadata": {},
   "outputs": [
    {
     "name": "stdout",
     "output_type": "stream",
     "text": [
      "{'Alex': 25, 'Petr': 37}\n",
      "2\n",
      "{'Alex': 25, 'Petr': 37, 'Kate': 18}\n",
      "37\n",
      "37\n",
      "Alex 25\n",
      "Petr 37\n",
      "Kate 18\n",
      "Alex 25\n",
      "Petr 37\n",
      "Kate 18\n",
      "dict_items([('Alex', 25), ('Petr', 37), ('Kate', 18)])\n"
     ]
    }
   ],
   "source": [
    "# dictionary\n",
    "d={\"Alex\": 25, \"Petr\": 37}\n",
    "print(d)\n",
    "print(len(d))\n",
    "d[\"Kate\"]=18\n",
    "print(d)\n",
    "print(d.get(\"Petr\"))\n",
    "print(d[\"Petr\"])\n",
    "for temp in d:\n",
    "    print(temp + \" \" + str(d[temp]))\n",
    "for key, value in d.items():\n",
    "    print(key + \" \" + str(value))\n",
    "print(d.items())"
   ]
  },
  {
   "cell_type": "code",
   "execution_count": 107,
   "metadata": {},
   "outputs": [
    {
     "name": "stdout",
     "output_type": "stream",
     "text": [
      "{'first': [2, 3, 4], 'second': [7, 8], 'third': [2, 3, 5, 6]}\n"
     ]
    }
   ],
   "source": [
    "# exercise1\n",
    "list5=[\"first\", 2, 3, 4, \"second\", 7, 8, \"third\", 2, 3, 5, 6]\n",
    "i=0\n",
    "myDict={}\n",
    "for i in range(len(list5)-1):\n",
    "    if type(list5[i])==str:\n",
    "        key=list5[i]\n",
    "        currList=[]\n",
    "        while type(list5[i+1])==int and i<(len(list5)-2):\n",
    "            currList.append(list5[i+1])\n",
    "            i+=1\n",
    "        if i==(len(list5)-2):\n",
    "            currList.append(list5[i+1])\n",
    "        myDict[key]=currList\n",
    "print(myDict)"
   ]
  },
  {
   "cell_type": "code",
   "execution_count": 112,
   "metadata": {},
   "outputs": [
    {
     "name": "stdout",
     "output_type": "stream",
     "text": [
      "[2, 4, 6, 8]\n",
      "[2, 4, 6, 8]\n",
      "[2, 4]\n"
     ]
    }
   ],
   "source": [
    "# list comprehension\n",
    "list6=[1,2,3,4]\n",
    "list7=[]\n",
    "for element in list6:\n",
    "    element*=2\n",
    "    list7.append(element)\n",
    "print(list7)\n",
    "list8=[element*2 for element in list6]\n",
    "print(list8)\n",
    "list6filtered=[element for element in list6 if element%2==0]\n",
    "print(list6filtered)"
   ]
  },
  {
   "cell_type": "code",
   "execution_count": 123,
   "metadata": {},
   "outputs": [
    {
     "name": "stdout",
     "output_type": "stream",
     "text": [
      "[20, 16, 12, 8, 4]\n"
     ]
    }
   ],
   "source": [
    "# exercise2\n",
    "list9=[element*2 for element in range(10,0,-1) if element%2==0]\n",
    "print(list9)"
   ]
  },
  {
   "cell_type": "code",
   "execution_count": 11,
   "metadata": {},
   "outputs": [
    {
     "name": "stdout",
     "output_type": "stream",
     "text": [
      "['a', 'd', 'e', 'c', 'b']\n",
      "{'a', 'd', 'e', 'c', 'b'}\n",
      "{'hello', 10, 20, 30}\n",
      "True\n",
      "False\n"
     ]
    }
   ],
   "source": [
    "# set\n",
    "mySet1 = set(['a', 'b', 'c', 'd'])\n",
    "mySet1.add('e')\n",
    "list10 = list(mySet1)\n",
    "print(list10)\n",
    "print(mySet1)\n",
    "mySet2 = {10, 20, 30, \"hello\"}\n",
    "print(mySet2)\n",
    "print(10 in mySet2)\n",
    "print(10 not in mySet2)"
   ]
  },
  {
   "cell_type": "code",
   "execution_count": 19,
   "metadata": {},
   "outputs": [
    {
     "name": "stdout",
     "output_type": "stream",
     "text": [
      "(2, 3)\n",
      "5\n"
     ]
    }
   ],
   "source": [
    "# tuple\n",
    "tuple1 = (1, 2, 3, 4, 5)\n",
    "print(tuple1[1:3])\n",
    "print(tuple1[-1])"
   ]
  },
  {
   "cell_type": "code",
   "execution_count": null,
   "metadata": {},
   "outputs": [],
   "source": []
  }
 ],
 "metadata": {
  "kernelspec": {
   "display_name": "Python 3",
   "language": "python",
   "name": "python3"
  },
  "language_info": {
   "codemirror_mode": {
    "name": "ipython",
    "version": 3
   },
   "file_extension": ".py",
   "mimetype": "text/x-python",
   "name": "python",
   "nbconvert_exporter": "python",
   "pygments_lexer": "ipython3",
   "version": "3.7.6"
  }
 },
 "nbformat": 4,
 "nbformat_minor": 4
}
