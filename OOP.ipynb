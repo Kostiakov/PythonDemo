{
 "cells": [
  {
   "cell_type": "code",
   "execution_count": 1,
   "metadata": {},
   "outputs": [],
   "source": [
    "class Dog():\n",
    "    def __init__(self, name, age):\n",
    "        self.name = name\n",
    "        self.age = age\n",
    "    def sit(self):\n",
    "        print(self.name + \" sits\")"
   ]
  },
  {
   "cell_type": "code",
   "execution_count": 6,
   "metadata": {},
   "outputs": [
    {
     "name": "stdout",
     "output_type": "stream",
     "text": [
      "Max\n",
      "Max sits\n"
     ]
    }
   ],
   "source": [
    "newDog = Dog(\"Max\", 6)\n",
    "print(newDog.name)\n",
    "newDog.sit()"
   ]
  },
  {
   "cell_type": "code",
   "execution_count": 20,
   "metadata": {},
   "outputs": [],
   "source": [
    "class Car():\n",
    "    def __init__(self, model, year):\n",
    "        self.model = model\n",
    "        self.year = year\n",
    "    def __str__(self):\n",
    "        return str(self.model) + \" \" + str(self.year)\n",
    "class ElectricCar(Car):\n",
    "    def __init__(self, model, year):\n",
    "        self.model = model\n",
    "        self.year = year\n",
    "class DieselCar(Car):\n",
    "    def __init__(self, model, year, color):\n",
    "        self.model = model\n",
    "        self.year = year\n",
    "        self.color = color\n",
    "class GazolineCar(Car):\n",
    "    def __init__(self, model, year):\n",
    "        super().__init__(model, year)"
   ]
  },
  {
   "cell_type": "code",
   "execution_count": 21,
   "metadata": {},
   "outputs": [
    {
     "name": "stdout",
     "output_type": "stream",
     "text": [
      "Audi\n",
      "BMW\n",
      "red\n",
      "Ford 1970\n"
     ]
    }
   ],
   "source": [
    "myCar1 = ElectricCar(\"Audi\", 1996)\n",
    "myCar2 = DieselCar(\"BMW\", 2010, \"red\")\n",
    "myCar3 = GazolineCar(\"Ford\", 1970)\n",
    "print(myCar1.model)\n",
    "print(myCar2.model)\n",
    "print(myCar2.color)\n",
    "print(myCar3)"
   ]
  },
  {
   "cell_type": "code",
   "execution_count": null,
   "metadata": {},
   "outputs": [],
   "source": []
  }
 ],
 "metadata": {
  "kernelspec": {
   "display_name": "Python 3",
   "language": "python",
   "name": "python3"
  },
  "language_info": {
   "codemirror_mode": {
    "name": "ipython",
    "version": 3
   },
   "file_extension": ".py",
   "mimetype": "text/x-python",
   "name": "python",
   "nbconvert_exporter": "python",
   "pygments_lexer": "ipython3",
   "version": "3.7.6"
  }
 },
 "nbformat": 4,
 "nbformat_minor": 4
}
