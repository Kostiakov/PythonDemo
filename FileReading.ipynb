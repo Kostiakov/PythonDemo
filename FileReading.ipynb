{
 "cells": [
  {
   "cell_type": "code",
   "execution_count": 8,
   "metadata": {},
   "outputs": [
    {
     "name": "stdout",
     "output_type": "stream",
     "text": [
      "12345\n",
      "Hello\n",
      "12345\n",
      "Hello\n"
     ]
    }
   ],
   "source": [
    "f = open('file.txt', 'r')\n",
    "line = f.readline()\n",
    "while line:\n",
    "    print(line, end='')\n",
    "    line = f.readline()\n",
    "# text = f.read()\n",
    "# print(text)\n",
    "f.close\n",
    "print()\n",
    "with open('file.txt', 'r') as g:\n",
    "    text = g.read()\n",
    "    print(text)"
   ]
  },
  {
   "cell_type": "code",
   "execution_count": 18,
   "metadata": {},
   "outputs": [
    {
     "name": "stdout",
     "output_type": "stream",
     "text": [
      "1 Apple\n",
      "2 Tomato\n",
      "3 Orange\n",
      "4 Pen\n",
      "5 Pencil\n",
      "6 Notebook\n"
     ]
    }
   ],
   "source": [
    "import pymysql\n",
    "connection = pymysql.connect(\"localhost\", \"hbstudent\", \"hbstudent\", \"products\")\n",
    "#cursor = connection.cursor()\n",
    "#sql_query = \"SELECT VERSION()\"\n",
    "#try:\n",
    "#    cursor.execute(sql_query)\n",
    "#    data = cursor.fetchone()\n",
    "#    print(\"DB version: %s\" %data)\n",
    "#except Exception as e:\n",
    "#    print(e)\n",
    "#connection.close()\n",
    "cursor = connection.cursor()\n",
    "sql_query = \"SELECT * FROM PRODUCTS\"\n",
    "try:\n",
    "    cursor.execute(sql_query)\n",
    "    results = cursor.fetchall()\n",
    "    for record in results:\n",
    "        productId = record[0]\n",
    "        name = record[1]\n",
    "        print(productId, name)\n",
    "except Exception as e:\n",
    "    print(e)\n",
    "connection.close()"
   ]
  },
  {
   "cell_type": "code",
   "execution_count": null,
   "metadata": {},
   "outputs": [],
   "source": []
  }
 ],
 "metadata": {
  "kernelspec": {
   "display_name": "Python 3",
   "language": "python",
   "name": "python3"
  },
  "language_info": {
   "codemirror_mode": {
    "name": "ipython",
    "version": 3
   },
   "file_extension": ".py",
   "mimetype": "text/x-python",
   "name": "python",
   "nbconvert_exporter": "python",
   "pygments_lexer": "ipython3",
   "version": "3.7.6"
  }
 },
 "nbformat": 4,
 "nbformat_minor": 4
}
